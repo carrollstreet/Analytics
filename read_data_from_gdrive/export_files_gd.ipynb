{
 "cells": [
  {
   "cell_type": "markdown",
   "metadata": {},
   "source": [
    "## How to export your datasets in Pandas from Google Drive?"
   ]
  },
  {
   "cell_type": "code",
   "execution_count": 1,
   "metadata": {},
   "outputs": [],
   "source": [
    "import pandas as pd\n",
    "from io import BytesIO\n",
    "import requests\n",
    "import yaml"
   ]
  },
  {
   "cell_type": "markdown",
   "metadata": {},
   "source": [
    "You have to open access to your spreadsheet and copy id from this link"
   ]
  },
  {
   "cell_type": "code",
   "execution_count": 2,
   "metadata": {},
   "outputs": [],
   "source": [
    "with open('keys.yaml') as f:\n",
    "    keys = yaml.load(f, Loader=yaml.FullLoader)\n",
    "        \n",
    "spreadsheet_id = keys['doc_id']\n",
    "file_name = f'https://docs.google.com/spreadsheets/d/{spreadsheet_id}/export?format=csv'\n",
    "r = requests.get(file_name)\n",
    "df = pd.read_csv(BytesIO(r.content))"
   ]
  },
  {
   "cell_type": "code",
   "execution_count": 3,
   "metadata": {},
   "outputs": [
    {
     "data": {
      "text/html": [
       "<div>\n",
       "<style scoped>\n",
       "    .dataframe tbody tr th:only-of-type {\n",
       "        vertical-align: middle;\n",
       "    }\n",
       "\n",
       "    .dataframe tbody tr th {\n",
       "        vertical-align: top;\n",
       "    }\n",
       "\n",
       "    .dataframe thead th {\n",
       "        text-align: right;\n",
       "    }\n",
       "</style>\n",
       "<table border=\"1\" class=\"dataframe\">\n",
       "  <thead>\n",
       "    <tr style=\"text-align: right;\">\n",
       "      <th></th>\n",
       "      <th>Rejected</th>\n",
       "      <th>Accepted</th>\n",
       "    </tr>\n",
       "  </thead>\n",
       "  <tbody>\n",
       "    <tr>\n",
       "      <th>0</th>\n",
       "      <td>Здравствуйте, благодарю за интерес к моей канд...</td>\n",
       "      <td>Здравствуйте, можно попробовать рассмотреть Ва...</td>\n",
       "    </tr>\n",
       "    <tr>\n",
       "      <th>1</th>\n",
       "      <td>День добрый, Сергей\\nСпасибо за предложение, н...</td>\n",
       "      <td>Здравствуйте, получил. Можете прислать подробн...</td>\n",
       "    </tr>\n",
       "    <tr>\n",
       "      <th>2</th>\n",
       "      <td>Добрый день,\\n\\nПока что не интересно, спасибо!</td>\n",
       "      <td>Добрый день, Сергей!\\n\\nНа ближайший год я рас...</td>\n",
       "    </tr>\n",
       "    <tr>\n",
       "      <th>3</th>\n",
       "      <td>Сергей, добрый день!\\n\\nСпасибо за интерес к м...</td>\n",
       "      <td>Добрый день)  извиняюсь за поздний фидбек. А м...</td>\n",
       "    </tr>\n",
       "    <tr>\n",
       "      <th>4</th>\n",
       "      <td>Добрый день! Да, действительно, почему-то пись...</td>\n",
       "      <td>День добрый Кирилл. Очень интересно, давайте о...</td>\n",
       "    </tr>\n",
       "  </tbody>\n",
       "</table>\n",
       "</div>"
      ],
      "text/plain": [
       "                                            Rejected  \\\n",
       "0  Здравствуйте, благодарю за интерес к моей канд...   \n",
       "1  День добрый, Сергей\\nСпасибо за предложение, н...   \n",
       "2    Добрый день,\\n\\nПока что не интересно, спасибо!   \n",
       "3  Сергей, добрый день!\\n\\nСпасибо за интерес к м...   \n",
       "4  Добрый день! Да, действительно, почему-то пись...   \n",
       "\n",
       "                                            Accepted  \n",
       "0  Здравствуйте, можно попробовать рассмотреть Ва...  \n",
       "1  Здравствуйте, получил. Можете прислать подробн...  \n",
       "2  Добрый день, Сергей!\\n\\nНа ближайший год я рас...  \n",
       "3  Добрый день)  извиняюсь за поздний фидбек. А м...  \n",
       "4  День добрый Кирилл. Очень интересно, давайте о...  "
      ]
     },
     "execution_count": 3,
     "metadata": {},
     "output_type": "execute_result"
    }
   ],
   "source": [
    "df.head()"
   ]
  },
  {
   "cell_type": "code",
   "execution_count": 4,
   "metadata": {},
   "outputs": [
    {
     "name": "stdout",
     "output_type": "stream",
     "text": [
      "<class 'pandas.core.frame.DataFrame'>\n",
      "RangeIndex: 157 entries, 0 to 156\n",
      "Data columns (total 2 columns):\n",
      " #   Column    Non-Null Count  Dtype \n",
      "---  ------    --------------  ----- \n",
      " 0   Rejected  157 non-null    object\n",
      " 1   Accepted  82 non-null     object\n",
      "dtypes: object(2)\n",
      "memory usage: 2.6+ KB\n"
     ]
    }
   ],
   "source": [
    "df.info()"
   ]
  }
 ],
 "metadata": {
  "kernelspec": {
   "display_name": "Python 3",
   "language": "python",
   "name": "python3"
  },
  "language_info": {
   "codemirror_mode": {
    "name": "ipython",
    "version": 3
   },
   "file_extension": ".py",
   "mimetype": "text/x-python",
   "name": "python",
   "nbconvert_exporter": "python",
   "pygments_lexer": "ipython3",
   "version": "3.7.3"
  }
 },
 "nbformat": 4,
 "nbformat_minor": 4
}
