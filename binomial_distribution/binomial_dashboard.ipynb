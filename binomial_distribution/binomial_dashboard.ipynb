{
  "nbformat": 4,
  "nbformat_minor": 0,
  "metadata": {
    "colab": {
      "name": "binomial_dashboard.ipynb",
      "provenance": [],
      "authorship_tag": "ABX9TyN6lwmHoXmcFAJlXWy3vXCy"
    },
    "kernelspec": {
      "name": "python3",
      "display_name": "Python 3"
    },
    "language_info": {
      "name": "python"
    }
  },
  "cells": [
    {
      "cell_type": "code",
      "metadata": {
        "colab": {
          "base_uri": "https://localhost:8080/",
          "height": 671
        },
        "id": "dw3o9MKSyY2E",
        "outputId": "16fe1eed-1198-4f05-f291-50881d78090f"
      },
      "source": [
        "!pip install jupyter-dash -q > /dev/null && pip install  dash-cytoscape -q > /dev/null\n",
        " \n",
        "import dash\n",
        "import dash_core_components as dcc\n",
        "import dash_html_components as html\n",
        "from dash.dependencies import Input, Output\n",
        "from jupyter_dash import JupyterDash  \n",
        "import dash_cytoscape as cyto  \n",
        "import numpy as np\n",
        "from scipy.special import binom\n",
        "import plotly.graph_objects as go\n",
        " \n",
        "external_stylesheets = ['https://codepen.io/chriddyp/pen/bWLwgP.css']\n",
        "app = JupyterDash(__name__, external_stylesheets=external_stylesheets, compress=False)\n",
        " \n",
        "app.layout = html.Div(children=[\n",
        " \n",
        "        html.Center(html.H2(children = 'Responce Estimation with Binomial Distribution')),\n",
        "        html.Hr(),\n",
        "        html.Div([\"Input number of messages: \", dcc.Input(id='trials', type='number', step=1, max=1001, min=0)]),\n",
        "        html.Br(),\n",
        "        html.Div([\"Expected conversion rate: \", dcc.Input(id='probas',type='number', step=0.01, min=0, max=1)]),\n",
        "        html.Hr(),\n",
        "        html.Div([dcc.Graph( id = 'binomial_chart')], className='twelve columns'),\n",
        "        html.H6(html.Div(id='output-info', style={'width': '95%','float':'right'})),\n",
        "])\n",
        " \n",
        "@app.callback(\n",
        "    [Output('binomial_chart', 'figure'),\n",
        "    Output('output-info', 'children'),\n",
        "    ],\n",
        "    [Input('trials', 'value'),\n",
        "    Input('probas', 'value'),\n",
        "    ])\n",
        "def update_figures(trials, probas):\n",
        " \n",
        "    def binominal(n, p):\n",
        "        distribution = np.array([binom(n, k) * p**k * (1-p)**(n-k) for k in range(0, n+1)])\n",
        "        return distribution\n",
        " \n",
        "    bar_chart = []  \n",
        "    description = ''\n",
        " \n",
        "    try:\n",
        "        data, trials = binominal(trials,probas), np.array(range(trials+1))\n",
        "        bar_chart = [(go.Bar(x=trials,y=data, hoverinfo='text+x', text=list(map(lambda x: '{:.1%}'.format(x),data)), marker_color='#FFA15A',\n",
        "            opacity=0.85))]\n",
        " \n",
        "        mx = round((trials*data).sum())\n",
        "        sigma = round((mx*(1-probas))**.5,3)\n",
        "    \n",
        "        description = 'Mean ± Std: {} ± {}'.format(mx, sigma)\n",
        "    except: \n",
        "        pass\n",
        " \n",
        "    return (\n",
        "        {'data':  bar_chart, \n",
        "        'layout': go.Layout(template='plotly_white', hovermode='x', xaxis={'title':'possible outcomes'}, yaxis={'title':'probability'})},\n",
        "        description,\n",
        "    )\n",
        " \n",
        " \n",
        "app.run_server(mode='inline', port=8030)"
      ],
      "execution_count": 1,
      "outputs": [
        {
          "output_type": "display_data",
          "data": {
            "application/javascript": [
              "(async (port, path, width, height, cache, element) => {\n",
              "    if (!google.colab.kernel.accessAllowed && !cache) {\n",
              "      return;\n",
              "    }\n",
              "    element.appendChild(document.createTextNode(''));\n",
              "    const url = await google.colab.kernel.proxyPort(port, {cache});\n",
              "    const iframe = document.createElement('iframe');\n",
              "    iframe.src = new URL(path, url).toString();\n",
              "    iframe.height = height;\n",
              "    iframe.width = width;\n",
              "    iframe.style.border = 0;\n",
              "    element.appendChild(iframe);\n",
              "  })(8030, \"/\", \"100%\", 650, false, window.element)"
            ],
            "text/plain": [
              "<IPython.core.display.Javascript object>"
            ]
          },
          "metadata": {
            "tags": []
          }
        }
      ]
    },
    {
      "cell_type": "code",
      "metadata": {
        "id": "dRfMdxx-zHWE"
      },
      "source": [
        ""
      ],
      "execution_count": null,
      "outputs": []
    }
  ]
}